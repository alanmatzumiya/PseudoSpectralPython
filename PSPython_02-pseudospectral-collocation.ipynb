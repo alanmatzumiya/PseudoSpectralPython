{
 "cells": [
  {
   "cell_type": "code",
   "execution_count": 1,
   "metadata": {
    "collapsed": false
   },
   "outputs": [
    {
     "data": {
      "text/html": [
       "<link href='http://fonts.googleapis.com/css?family=Alegreya+Sans:100,300,400,500,700,800,900,100italic,300italic,400italic,500italic,700italic,800italic,900italic' rel='stylesheet' type='text/css'>\n",
       "<link href='http://fonts.googleapis.com/css?family=Arvo:400,700,400italic' rel='stylesheet' type='text/css'>\n",
       "<link href='http://fonts.googleapis.com/css?family=PT+Mono' rel='stylesheet' type='text/css'>\n",
       "<link href='http://fonts.googleapis.com/css?family=Philosopher:400,700,400italic,700italic' rel='stylesheet' type='text/css'>\n",
       "\n",
       "<style>\n",
       "\n",
       "#notebook_panel { /* main background */\n",
       "    background: #888;\n",
       "    color: #f6f6f6;\n",
       "}\n",
       "\n",
       "div.cell { /* set cell width to about 80 chars */\n",
       "    width: 800px;\n",
       "}\n",
       "\n",
       "div #notebook { /* centre the content */\n",
       "    background: #fff; /* white background for content */\n",
       "    width: 1000px;\n",
       "    margin: auto;\n",
       "    padding-left: 1em;\n",
       "}\n",
       "\n",
       "#notebook li { /* More space between bullet points */\n",
       "margin-top:0.8em;\n",
       "}\n",
       "\n",
       "/* draw border around running cells */\n",
       "div.cell.border-box-sizing.code_cell.running { \n",
       "    border: 3px solid #111;\n",
       "}\n",
       "\n",
       "/* Put a solid color box around each cell and its output, visually linking them together */\n",
       "div.cell.code_cell {\n",
       "    background-color: #f4f3e0; \n",
       "    border-radius: 10px; /* rounded borders */\n",
       "    padding: 1em;\n",
       "    margin-top: 1em;\n",
       "}\n",
       "\n",
       "div.text_cell_render{\n",
       "    font-family: 'Arvo' sans-serif;\n",
       "    line-height: 130%;\n",
       "    font-size: 115%;\n",
       "    width:700px;\n",
       "    margin-left:auto;\n",
       "    margin-right:auto;\n",
       "}\n",
       "\n",
       "\n",
       "/* Formatting for header cells */\n",
       ".text_cell_render h1 {\n",
       "    font-family: 'Philosopher', sans-serif;\n",
       "    font-weight: 400;\n",
       "    font-size: 40pt;\n",
       "    line-height: 100%;\n",
       "    color: rgb(12,85,97);\n",
       "    margin-bottom: 0.1em;\n",
       "    margin-top: 0.1em;\n",
       "    display: block;\n",
       "}\t\n",
       ".text_cell_render h2 {\n",
       "    font-family: 'Philosopher', serif;\n",
       "    font-weight: 700;\n",
       "    font-size: 24pt;\n",
       "    line-height: 100%;\n",
       "    color: rgb(171,165,131);\n",
       "    margin-bottom: 0.1em;\n",
       "    margin-top: 0.1em;\n",
       "    display: block;\n",
       "}\t\n",
       "\n",
       ".text_cell_render h3 {\n",
       "    font-family: 'Philosopher', serif;\n",
       "    margin-top:12px;\n",
       "    margin-bottom: 3px;\n",
       "    font-style: italic;\n",
       "    color: rgb(95,92,72);\n",
       "}\n",
       "\n",
       ".text_cell_render h4 {\n",
       "    font-family: 'Philosopher', serif;\n",
       "}\n",
       "\n",
       ".text_cell_render h5 {\n",
       "    font-family: 'Alegreya Sans', sans-serif;\n",
       "    font-weight: 300;\n",
       "    font-size: 16pt;\n",
       "    color: grey;\n",
       "    font-style: italic;\n",
       "    margin-bottom: .1em;\n",
       "    margin-top: 0.1em;\n",
       "    display: block;\n",
       "}\n",
       "\n",
       ".text_cell_render h6 {\n",
       "    font-family: 'PT Mono', sans-serif;\n",
       "    font-weight: 300;\n",
       "    font-size: 10pt;\n",
       "    color: grey;\n",
       "    margin-bottom: 1px;\n",
       "    margin-top: 1px;\n",
       "}\n",
       "\n",
       ".CodeMirror{\n",
       "    font-family: \"PT Mono\";\n",
       "    font-size: 100%;\n",
       "}\n",
       "\n",
       "</style>\n"
      ],
      "text/plain": [
       "<IPython.core.display.HTML object>"
      ]
     },
     "execution_count": 1,
     "metadata": {},
     "output_type": "execute_result"
    }
   ],
   "source": [
    "from IPython.core.display import HTML\n",
    "css_file = './custom.css'\n",
    "HTML(open(css_file, \"r\").read())"
   ]
  },
  {
   "cell_type": "markdown",
   "metadata": {},
   "source": [
    "###### Content provided under a Creative Commons Attribution license, CC-BY 4.0; code under MIT License. (c)2015 [David I. Ketcheson](http://davidketcheson.info)"
   ]
  },
  {
   "cell_type": "markdown",
   "metadata": {},
   "source": [
    "##### Version 0.1 - April 2015"
   ]
  },
  {
   "cell_type": "code",
   "execution_count": null,
   "metadata": {
    "collapsed": true
   },
   "outputs": [],
   "source": [
    "%matplotlib inline\n",
    "import numpy as np\n",
    "import matplotlib.pyplot as plt\n",
    "import matplotlib\n",
    "from matplotlib import animation\n",
    "from JSAnimation import IPython_display"
   ]
  },
  {
   "cell_type": "markdown",
   "metadata": {},
   "source": [
    "# Pseudospectral collocation methods"
   ]
  },
  {
   "cell_type": "markdown",
   "metadata": {},
   "source": [
    "Welcome to lesson 2 -- in which we'll learn about the main focus of this course: pseudospectral collocation methods for wave equations.  But first, a bit of review."
   ]
  },
  {
   "cell_type": "markdown",
   "metadata": {},
   "source": [
    "## Advection-diffusion (again)\n",
    "\n",
    "$$\n",
    "\\newcommand{\\F}{\\mathcal F}\n",
    "\\newcommand{\\Finv}{{\\mathcal F}^{-1}}\n",
    "$$\n",
    "\n",
    "In notebook 1 we solved the scalar, linear 1D evolution equation:\n",
    "\n",
    "$$u_t + u_x = \\epsilon u_{xx}$$\n",
    "\n",
    "by taking the Fourier transform, which \"diagonalizes\" this infinite-dimensional dynamical system:\n",
    "\n",
    "$$\\hat{u}_t + i\\xi\\hat{u} = -\\xi^2 \\epsilon \\hat{u}$$\n",
    "\n",
    "with solution\n",
    "\n",
    "$$\\hat{u}(t) = e^{(-i \\xi - \\epsilon \\xi^2)t} \\hat{u}(0)$$\n",
    "\n",
    "for each mode.\n",
    "\n",
    "To construct the full solution, we simply take the inverse Fourier transform.  All together, this algorithm looks like:\n",
    "\n",
    "$$\n",
    "u(t) = \\Finv \\left(D\\left[e^{(-i \\xi - \\epsilon \\xi^2)t}\\right]\\F(u) \\right),\n",
    "$$\n",
    "\n",
    "where we have written $D[f(\\xi)]$ to denote the diagonal matrix whose $(j,j)$ entry is given by $f(\\xi_j)$.\n",
    "In the exact solution, the wavenumbers $\\xi$ range from $-\\infty$ to $+\\infty$ (and $D$ is infinite), but in practice we compute on a finite interval of length $L$ with $m$ collocation points.\n",
    "The wavenumbers are then given by the formula\n",
    "\n",
    "\\begin{align}\n",
    "\\xi_j & = \\frac{2 \\pi j}{L} & \\text{for } -m/2 \\le j < m/2,\n",
    "\\end{align}\n",
    "\n",
    "although the FFT routine orders them differently."
   ]
  },
  {
   "cell_type": "markdown",
   "metadata": {},
   "source": [
    "We can make the algorithm even more explicit by recognizing that the FFT (and its inverse) is a linear map, so it can be represented as a matrix multiplication.  Thus\n",
    "\n",
    "$$\\F(u) = Fu$$\n",
    "\n",
    "where $F$ is a certain $m \\times m$ matrix.  This matrix has a number of interesting properties (see e.g. Trefethen, Ch. 3), but for the moment we are only interested in the fact that it is a linear operator.  We can reverse engineer it by applying $\\F$ to the columns of the identity matrix:"
   ]
  },
  {
   "cell_type": "code",
   "execution_count": null,
   "metadata": {
    "collapsed": false
   },
   "outputs": [],
   "source": [
    "def F_matrix(m):\n",
    "    F = np.zeros((m,m),dtype=complex)\n",
    "    for j in range(m):\n",
    "        v = np.zeros(m)\n",
    "        v[j] = 1.\n",
    "        F[:,j] = np.fft.fft(v)\n",
    "    return F\n",
    "\n",
    "print F_matrix(4)"
   ]
  },
  {
   "cell_type": "markdown",
   "metadata": {},
   "source": [
    "Notice that $F$ is symmetric; this is true for any value of $m$.  Also, $F$ is essentially unitary -- that is, it is possible to choose a normalization such that $F$ is unitary, but the normalization in common use means that $FF^*=mI$ (and $F^{-1}F^{-*} = m^{-1} I$)."
   ]
  },
  {
   "cell_type": "markdown",
   "metadata": {},
   "source": [
    "We won't work with this matrix in practice since applying it naively is much slower than the FFT.  But it is a useful representation.  Thus we can write our \"algorithm\" simply as\n",
    "\n",
    "$$\n",
    "u(t) = F^{-1} D\\left[e^{(-i \\xi - \\epsilon \\xi^2)(t-t_0)}\\right] F u(t_0).\n",
    "$$\n",
    "\n",
    "Now it is completely clear that we are simply applying a similarity transformation that diagonalizes the dynamics of our system.\n",
    "We can solve any linear, scalar constant-coefficient 1D evolution equation in similar manner, by simply replacing the argument of $D$.  Note that this algorithm is:\n",
    "\n",
    "- Exact in time (the only error is due to our initial truncation of the Fourier series by sampling the data at a finite set of points); and\n",
    "- Unconditionally stable.\n",
    "\n",
    "Here is the implementation as a reminder."
   ]
  },
  {
   "cell_type": "code",
   "execution_count": null,
   "metadata": {
    "collapsed": false
   },
   "outputs": [],
   "source": [
    "# Spatial grid\n",
    "m=64                            # Number of grid points in space\n",
    "L = 2 * np.pi                   # Width of spatial domain\n",
    "x = np.arange(-m/2,m/2)*(L/m)   # Grid points\n",
    "dx = x[1]-x[0]                  # Grid spacing\n",
    "\n",
    "# Temporal grid\n",
    "tmax=4.0     # Final time\n",
    "N = 25       # number grid points in time\n",
    "k = tmax/N   # interval between output times\n",
    "\n",
    "xi = np.fft.fftfreq(m)*m*2*np.pi/L  # Wavenumber \"grid\"\n",
    "# (this is the order in which numpy's FFT gives the frequencies)\n",
    "\n",
    "# Initial data\n",
    "u = np.sin(2*x)**2 * (x<-L/4)\n",
    "uhat0 = np.fft.fft(u)\n",
    "\n",
    "epsilon=0.01  # Diffusion coefficient\n",
    "a = 1.0       # Advection coefficient\n",
    "\n",
    "# Store solutions in a list for plotting later\n",
    "frames = [u.copy()]\n",
    "\n",
    "# Now we solve the problem\n",
    "for n in range(1,N+1):\n",
    "    t = n*k\n",
    "    uhat = np.exp(-(1.j*xi*a + epsilon*xi**2)*t) * uhat0\n",
    "    u = np.real(np.fft.ifft(uhat))\n",
    "    frames.append(u.copy())\n",
    "    \n",
    "# Set up plotting\n",
    "fig = plt.figure(figsize=(9,4)); axes = fig.add_subplot(111)\n",
    "line, = axes.plot([],[],lw=3)\n",
    "axes.set_xlim((x[0],x[-1])); axes.set_ylim((0.,1.))\n",
    "\n",
    "def plot_frame(i):\n",
    "    line.set_data(x,frames[i])\n",
    "    axes.set_title('t='+str(i*k))\n",
    "\n",
    "# Animate the solution\n",
    "matplotlib.animation.FuncAnimation(fig, plot_frame,\n",
    "                                   frames=len(frames),\n",
    "                                   interval=200)"
   ]
  },
  {
   "cell_type": "markdown",
   "metadata": {},
   "source": [
    "## Variable coefficients\n",
    "\n",
    "Things become more interesting as soon as we introduce spatially-varying coefficients or nonlinearity.  In either case, the Fourier transform no longer provides a global diagonalization -- instead, it can be thought of as diagonalizing the system at one instant in time.  That means that we will have to discretize in time, and the time step we can use will be restricted by accuracy and (possibly) stability considerations.\n",
    "\n",
    "Consider now the **variable-coefficient advection equation**\n",
    "\n",
    "$$ u_t + a(x) u_x = 0.$$\n",
    "\n",
    "In a purely spectral method, we would take the Fourier transform of this equation and we would need to compute a convolution of $a(x)$ with $u$, which is computationally quite expensive relative to the rest of what we will do.  Specifically, the convolution would require ${\\mathcal O}(m^2)$ operations, whereas the FFT requires only ${\\mathcal O}(m \\log m)$.  To avoid this expense, we use the \"pseudospectral\" approach: we compute the derivative $u_x$ in the spectral way:\n",
    "\n",
    "$$ u_x = F^{-1} \\left(D\\left[i\\xi\\right] F u\\right),$$\n",
    "\n",
    "and then multiply by $a(x)$ in physical space:\n",
    "\n",
    "$$ (a(x) u_x)_j = a(x_j) \\left(F^{-1}  \\left(D\\left[i\\xi\\right] F u\\right) \\right)_j.$$"
   ]
  },
  {
   "cell_type": "markdown",
   "metadata": {
    "collapsed": true
   },
   "source": [
    "Letting\n",
    "$$\n",
    "    A = \\begin{pmatrix} a(x_1) \\\\ & a(x_2) \\\\ & & \\ddots \\\\ & & & a(x_m) \\end{pmatrix},\n",
    "$$\n",
    "we have the semi-discrete system\n",
    "\n",
    "$$\n",
    "U'(t) = -A \\Finv \\left(D\\left[i\\xi\\right] \\F(U)\\right).\n",
    "$$\n",
    "\n",
    "Next we need to integrate in time.  To choose an appropriate time integrator, we would like to know the spectrum of our semi-discretization.  We can compute it explicitly."
   ]
  },
  {
   "cell_type": "markdown",
   "metadata": {},
   "source": [
    "We have a linear ODE system of the form $U'(t) = MU(t)$, where\n",
    "$$M = -AF^{-1}D[i\\xi]F.$$\n",
    "The code below computes the spectrum of $M$ for a few choices of $a(x)$.\n",
    "\n",
    "*should add plots of a(x) below*"
   ]
  },
  {
   "cell_type": "code",
   "execution_count": null,
   "metadata": {
    "collapsed": false
   },
   "outputs": [],
   "source": [
    "def plot_spectrum(a,m=64):\n",
    "    F = F_matrix(m)\n",
    "    Finv = np.linalg.inv(F)\n",
    "    L = 2 * np.pi\n",
    "    xi = np.fft.fftfreq(m)*m*2*np.pi/L\n",
    "    D = np.diag(1.j*xi)\n",
    "    x = np.arange(-m/2,m/2)*(L/m)\n",
    "    A = np.diag(a(x))\n",
    "    M = -np.dot(A,np.dot(Finv,np.dot(D,F)))\n",
    "    lamda = np.linalg.eigvals(M)\n",
    "    plt.plot(np.real(lamda),np.imag(lamda),'o')\n",
    "    plt.axis('equal')"
   ]
  },
  {
   "cell_type": "code",
   "execution_count": null,
   "metadata": {
    "collapsed": false
   },
   "outputs": [],
   "source": [
    "a = lambda x : np.ones(len(x))\n",
    "plot_spectrum(a,m=32)"
   ]
  },
  {
   "cell_type": "code",
   "execution_count": null,
   "metadata": {
    "collapsed": false
   },
   "outputs": [],
   "source": [
    "a = lambda x : 2 + np.sin(x)\n",
    "plot_spectrum(a)"
   ]
  },
  {
   "cell_type": "markdown",
   "metadata": {},
   "source": [
    "We see that the eigenvalues of $M$ are purely imaginary, regardless of the choice of $a(x)$.  In fact we could see this *a priori*, since $M$ is the product of a real diagonal matrix $A$ and a matrix that is similar to $D$.\n",
    "\n",
    "It is also straightforward to see that the largest eigenvalues of $M$ have magnitude equal to $\\max_i |a(x_i)| m/2$."
   ]
  },
  {
   "cell_type": "markdown",
   "metadata": {},
   "source": [
    "Thus we should choose a time integrator whose absolute stability region includes part of the imaginary axis -- ideally, a large part of it.  A simple integrator of this type is the explicit midpoint method (also referred to as the *leapfrog* method.  For our problem it amounts to\n",
    "$$\n",
    "U^{n+1} = U^{n-1} + 2\\Delta t M U^n.\n",
    "$$\n",
    "Since this is a 2-step method, we need some other way to take the first step.  For that, we use the explicit Euler method:\n",
    "$$\n",
    "U^{n+1} = U^n + \\Delta t M U^n.\n",
    "$$"
   ]
  },
  {
   "cell_type": "code",
   "execution_count": null,
   "metadata": {
    "collapsed": false
   },
   "outputs": [],
   "source": [
    "#a = lambda x : np.ones(len(x))\n",
    "a = lambda x : 2 + np.sin(x)\n",
    "\n",
    "F = F_matrix(m)\n",
    "Finv = np.linalg.inv(F)\n",
    "L = 2 * np.pi\n",
    "xi = np.fft.fftfreq(m)*m*2*np.pi/L\n",
    "D = np.diag(1.j*xi)\n",
    "x = np.arange(-m/2,m/2)*(L/m)\n",
    "A = np.diag(a(x))\n",
    "M = -np.dot(A,np.dot(Finv,np.dot(D,F)))\n",
    "\n",
    "# Initial data\n",
    "u = np.sin(2*x)**2 * (x<-L/4)\n",
    "dx = x[1]-x[0]\n",
    "dt = 2.0/m/np.max(np.abs(a(x)))/2.\n",
    "T = 3.\n",
    "N = int(np.round(T/dt))\n",
    "\n",
    "frames = [u.copy()]\n",
    "skip = N/30\n",
    "\n",
    "# Start with an explicit Euler step\n",
    "u_new = u + dt*np.dot(M,u)\n",
    "\n",
    "# Now we solve the problem\n",
    "for n in range(1,N+1):\n",
    "    t = n*dt\n",
    "    u_old = u.copy()\n",
    "    u = u_new.copy()\n",
    "    u_new = u_old + 2*dt*np.dot(M,u)\n",
    "    if ((n % skip) == 0):\n",
    "        frames.append(u_new.copy())\n",
    "    \n",
    "# Set up plotting\n",
    "fig = plt.figure(figsize=(9,4)); axes = fig.add_subplot(111)\n",
    "line, = axes.plot([],[],lw=3)\n",
    "axes.set_xlim((x[0],x[-1])); axes.set_ylim((-0.1,1.1))\n",
    "\n",
    "def plot_frame(i):\n",
    "    line.set_data(x,frames[i])\n",
    "    axes.set_title('t='+str(i*skip*dt))\n",
    "\n",
    "# Animate the solution\n",
    "matplotlib.animation.FuncAnimation(fig, plot_frame,\n",
    "                                   frames=len(frames),\n",
    "                                   interval=200)"
   ]
  },
  {
   "cell_type": "markdown",
   "metadata": {},
   "source": [
    "### Exercise: absolute stability\n",
    "The region of absolute stability for the midpoint method is the interval $S=[-i,i]$.  The numerical solution will be stable only if $\\lambda \\Delta t \\in S$ for all eigenvalues $\\lambda$ of $M$.  \n",
    "\n",
    "Determine the maximum stable step size.\n",
    "\n",
    "What happens if you take a step size larger than this value?"
   ]
  },
  {
   "cell_type": "markdown",
   "metadata": {},
   "source": [
    "Now, in addition to truncating the Fourier series of the initial condition, we are truncating the Taylor series of the evolution in time.  This leads to truncation error that accumulates, leading to a solution that is less accurate as time progresses.  Set the $\\Delta t$ equal to the largest stable step size and notice the oscillations that appear in front of the pulse as it propagates.\n",
    "\n",
    "Try reducing the size of $\\Delta t$ to decrease the amount of truncation error.\n",
    "\n",
    "Try some different velocity functions $a(x)$."
   ]
  }
 ],
 "metadata": {
  "kernelspec": {
   "display_name": "Python 2",
   "language": "python",
   "name": "python2"
  },
  "language_info": {
   "codemirror_mode": {
    "name": "ipython",
    "version": 2
   },
   "file_extension": ".py",
   "mimetype": "text/x-python",
   "name": "python",
   "nbconvert_exporter": "python",
   "pygments_lexer": "ipython2",
   "version": "2.7.9"
  }
 },
 "nbformat": 4,
 "nbformat_minor": 0
}
